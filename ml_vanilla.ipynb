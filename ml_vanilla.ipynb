{
  "nbformat": 4,
  "nbformat_minor": 0,
  "metadata": {
    "colab": {
      "provenance": []
    },
    "kernelspec": {
      "name": "python3",
      "display_name": "Python 3"
    },
    "language_info": {
      "name": "python"
    }
  },
  "cells": [
    {
      "cell_type": "code",
      "source": [
        "import numpy as np\n",
        "import matplotlib.pyplot as plt"
      ],
      "metadata": {
        "id": "jd-8gM_kRS13"
      },
      "execution_count": 138,
      "outputs": []
    },
    {
      "cell_type": "code",
      "execution_count": 139,
      "metadata": {
        "id": "hSdNMRkPPo2d"
      },
      "outputs": [],
      "source": [
        "# Parameters of model\n",
        "lr = 1\n",
        "n_input = 8\n",
        "n_hidden = 3\n",
        "n_output = 1"
      ]
    },
    {
      "cell_type": "code",
      "source": [
        "# Random data generation with 0s and 1s\n",
        "data = np.random.randint(0,2, size=(8,8))\n",
        "print(data)"
      ],
      "metadata": {
        "colab": {
          "base_uri": "https://localhost:8080/"
        },
        "id": "Lk54XCVTRVh-",
        "outputId": "2b4b73f4-63cc-46e0-e7d3-3faa484582b0"
      },
      "execution_count": 140,
      "outputs": [
        {
          "output_type": "stream",
          "name": "stdout",
          "text": [
            "[[0 1 1 1 1 0 1 1]\n",
            " [0 1 0 1 1 1 0 1]\n",
            " [0 0 1 1 1 0 0 0]\n",
            " [1 1 1 1 0 0 0 1]\n",
            " [1 1 1 1 1 1 0 0]\n",
            " [0 0 1 0 1 0 1 1]\n",
            " [0 1 0 0 1 0 1 0]\n",
            " [1 1 0 1 0 0 1 1]]\n"
          ]
        }
      ]
    },
    {
      "cell_type": "code",
      "source": [
        "# Calculating desired output\n",
        "x = []\n",
        "y = []\n",
        "for i in range(8):\n",
        "  for j in data[:,i]:\n",
        "    x.append(j)\n",
        "  x = np.array(x)\n",
        "  count = np.count_nonzero(x==1)\n",
        "  x = []\n",
        "  if count%2==0:\n",
        "    y.append(1)\n",
        "  else:\n",
        "    y.append(0)\n"
      ],
      "metadata": {
        "id": "DGMX6Aa8YtCA"
      },
      "execution_count": 141,
      "outputs": []
    },
    {
      "cell_type": "code",
      "source": [
        "x = data.T\n",
        "y_desired = np.array(y)\n",
        "y_desired = y_desired.reshape(8,1)"
      ],
      "metadata": {
        "id": "N-ZQIbyon4nT"
      },
      "execution_count": 142,
      "outputs": []
    },
    {
      "cell_type": "code",
      "source": [
        "input_size = n_input\n",
        "hidden_size = n_hidden\n",
        "output_size = n_output\n",
        "\n",
        "# create the weight matrices with random weights between -0.5 and 0.5\n",
        "w_fg = np.random.uniform(low=-0.5, high=0.5, size=(input_size, hidden_size))\n",
        "w_gh = np.random.uniform(low=-0.5, high=0.5, size=(hidden_size, output_size))"
      ],
      "metadata": {
        "id": "vp1haZX0aO8c"
      },
      "execution_count": 143,
      "outputs": []
    },
    {
      "cell_type": "code",
      "source": [
        "# Defining activation function\n",
        "def sigmoid(x):\n",
        "  return 1/(1+np.exp(-x))"
      ],
      "metadata": {
        "id": "xdKq_pf-uiBQ"
      },
      "execution_count": 144,
      "outputs": []
    },
    {
      "cell_type": "code",
      "source": [
        "# set up the learning rate and number of epochs\n",
        "learning_rate = lr\n",
        "num_epochs = 0\n",
        "sse_list = []\n",
        "y_list = []\n",
        "# iterate the model until convergence or max epochs\n",
        "while True:\n",
        "    # forward pass: compute the output of the model\n",
        "    hidden_activations = np.dot(x, w_fg)\n",
        "    hidden_output = sigmoid(hidden_activations)\n",
        "    y = np.dot(hidden_output, w_gh)\n",
        "    y = sigmoid(y)\n",
        "\n",
        "    # compute the sum of squared error between observed and desired output\n",
        "    error = y_desired - y\n",
        "    sse = np.sum(error ** 2)\n",
        "    sse_list.append(sse)\n",
        "\n",
        "    # print a report every 10 epochs\n",
        "    if num_epochs % 10 == 0:\n",
        "        print(f\"Epoch {num_epochs}: SSE = {sse}\")\n",
        "\n",
        "    # check convergence condition and exit loop if satisfied\n",
        "    if sse < 0.01 or num_epochs > 1000:\n",
        "        break\n",
        "\n",
        "    # backward pass: update the weights of the model\n",
        "    delta_y = -error\n",
        "    delta_w_gh = np.dot(hidden_output.T, delta_y)\n",
        "    delta_hidden_output = np.dot(delta_y, w_gh.T)\n",
        "    delta_hidden_activations = delta_hidden_output * hidden_output * (1 - hidden_output)\n",
        "    delta_w_fg = np.dot(x.T, delta_hidden_activations)\n",
        "\n",
        "    # update the weights with the computed deltas\n",
        "    w_gh -= learning_rate * delta_w_gh\n",
        "    w_fg -= learning_rate * delta_w_fg\n",
        "\n",
        "    # increment the number of epochs\n",
        "    num_epochs += 1\n",
        "\n",
        "# print the final output and number of epochs\n",
        "print(\"Predicted output:\", y.flatten())\n",
        "print(\"Actual Output\", y_desired.flatten())\n",
        "accuracy = np.mean((y > 0.5) == y_desired)\n",
        "print('Accuracy: ', accuracy)\n",
        "print(\"Number of epochs:\", num_epochs)"
      ],
      "metadata": {
        "colab": {
          "base_uri": "https://localhost:8080/"
        },
        "id": "GgjebwTinfoj",
        "outputId": "d78b9a4c-8346-492e-aa63-9cafc653bc3d"
      },
      "execution_count": 145,
      "outputs": [
        {
          "output_type": "stream",
          "name": "stdout",
          "text": [
            "Epoch 0: SSE = 2.2375727380437076\n",
            "Epoch 10: SSE = 0.5555904525562494\n",
            "Epoch 20: SSE = 0.017685907503812652\n",
            "Predicted output: [0.04716742 0.99030683 0.03988415 0.95529438 0.99533494 0.98851376\n",
            " 0.96957213 0.05378132]\n",
            "Actual Output [0 1 0 1 1 1 1 0]\n",
            "Accuracy:  1.0\n",
            "Number of epochs: 23\n"
          ]
        }
      ]
    },
    {
      "cell_type": "code",
      "source": [
        "if sse < 0.01:\n",
        "  # create a plot of SSE as it changes over epochs\n",
        "  plt.plot(sse_list)\n",
        "  plt.xlabel(\"Epoch\")\n",
        "  plt.ylabel(\"SSE\")\n",
        "  plt.title(\"SSE vs Epoch\")\n",
        "  plt.show()"
      ],
      "metadata": {
        "colab": {
          "base_uri": "https://localhost:8080/",
          "height": 295
        },
        "id": "D4fsVIH1cDdd",
        "outputId": "ca06de9a-cb23-43f3-ea92-e52c97be9c1a"
      },
      "execution_count": 146,
      "outputs": [
        {
          "output_type": "display_data",
          "data": {
            "text/plain": [
              "<Figure size 432x288 with 1 Axes>"
            ],
            "image/png": "[encoded data removed]"
          },
          "metadata": {
            "needs_background": "light"
          }
        }
      ]
    },
    {
      "cell_type": "code",
      "source": [
        "# We are using imshow function in Matplotlib to produce a plot similar to MATLAB's imagesc\n",
        "if sse < 0.01:\n",
        "  # Create a 1x2 subplot grid\n",
        "  fig, axs = plt.subplots(1, 2, figsize=(8, 4))\n",
        "\n",
        "  # Create a heatmap of the array using imshow\n",
        "  plt.imshow(y, cmap='viridis', origin='lower', aspect='auto', interpolation='nearest')\n",
        "\n",
        "  # Plot the first image in the left subplot\n",
        "  axs[0].imshow(y_desired, cmap='viridis', origin='lower', aspect='auto', interpolation='nearest')\n",
        "  axs[0].set_title('Desired Output')\n",
        "\n",
        "  # Plot the second image in the right subplot\n",
        "  axs[1].imshow(y, cmap='plasma', origin='lower', aspect='auto', interpolation='nearest')\n",
        "  axs[1].set_title('Actual Output')\n",
        "\n",
        "  # Add a colorbar to each subplot to show the mapping between values and colors\n",
        "  for ax in axs:\n",
        "      cbar = ax.figure.colorbar(ax.images[0], ax=ax)\n",
        "\n",
        "  # Show the plot\n",
        "  plt.show()"
      ],
      "metadata": {
        "colab": {
          "base_uri": "https://localhost:8080/",
          "height": 281
        },
        "id": "n-if6Jj9RRJ-",
        "outputId": "e18bd335-e139-48f8-fb0a-5638e32ad441"
      },
      "execution_count": 147,
      "outputs": [
        {
          "output_type": "display_data",
          "data": {
            "text/plain": [
              "<Figure size 576x288 with 4 Axes>"
            ],
            "image/png": "[encoded data removed]"
          },
          "metadata": {
            "needs_background": "light"
          }
        }
      ]
    },
    {
      "cell_type": "markdown",
      "source": [
        "# Testing Phase"
      ],
      "metadata": {
        "id": "3J-KoJ3We2PO"
      }
    },
    {
      "cell_type": "code",
      "source": [
        "# Random data generation with 0s and 1s\n",
        "data = np.random.randint(0,2, size=(8,8))\n",
        "print(data)\n",
        "\n",
        "# Calculating desired output\n",
        "x = []\n",
        "y = []\n",
        "for i in range(8):\n",
        "  for j in data[:,i]:\n",
        "    x.append(j)\n",
        "  x = np.array(x)\n",
        "  count = np.count_nonzero(x==1)\n",
        "  x = []\n",
        "  if count%2==0:\n",
        "    y.append(1)\n",
        "  else:\n",
        "    y.append(0)\n",
        "\n",
        "\n",
        "x_test = data.T\n",
        "y_desired = np.array(y)\n",
        "y_desired = y_desired.reshape(8,1)\n",
        "\n",
        "sse_list = []\n",
        "def forward(X, W1, W2):\n",
        "    hidden = sigmoid(np.dot(X, W1))\n",
        "    output = sigmoid(np.dot(hidden, W2))\n",
        "    error = y_desired - output\n",
        "    sse = np.sum(error ** 2)\n",
        "    sse_list.append(sse)\n",
        "    return output\n",
        "\n",
        "# Test the model on the testing data\n",
        "Y_pred_test = forward(x_test, w_fg, w_gh)\n",
        "print(\"Predicted values: \", Y_pred_test.flatten())\n",
        "print(\"True values: \", y_desired.flatten())\n",
        "print(\"Sum of squared Error: \", sse_list)\n",
        "\n",
        "accuracy = np.mean((Y_pred_test > 0.5) == y_desired)\n",
        "print(\"Accuracy: \", accuracy)\n"
      ],
      "metadata": {
        "colab": {
          "base_uri": "https://localhost:8080/"
        },
        "id": "d8MNT7E7e7__",
        "outputId": "77ca7dcd-027a-4bb1-f3c1-1b4e76e3f96e"
      },
      "execution_count": 148,
      "outputs": [
        {
          "output_type": "stream",
          "name": "stdout",
          "text": [
            "[[0 0 0 0 1 1 1 1]\n",
            " [1 0 1 1 0 0 1 1]\n",
            " [0 0 1 1 0 0 1 0]\n",
            " [0 0 0 0 1 1 1 0]\n",
            " [0 1 1 1 1 1 0 1]\n",
            " [1 0 0 0 0 1 0 0]\n",
            " [0 0 1 1 1 0 0 0]\n",
            " [0 1 0 1 0 1 1 0]]\n",
            "Predicted values:  [0.7003664  0.89735913 0.99579686 0.99575484 0.90767253 0.02302726\n",
            " 0.88470393 0.99129447]\n",
            "True values:  [1 1 1 0 1 0 0 0]\n",
            "Sum of squared Error:  [2.866281197451599]\n",
            "Accuracy:  0.625\n"
          ]
        }
      ]
    },
    {
      "cell_type": "code",
      "source": [
        "''' \n",
        "    For some testing data we are able to get around 75%-80% accuracy \n",
        "    which shows that the model is able to generalize well\n",
        "'''"
      ],
      "metadata": {
        "colab": {
          "base_uri": "https://localhost:8080/",
          "height": 36
        },
        "id": "OUWJ7t1z6vqY",
        "outputId": "b0b6b402-e889-4156-94ae-dd1e22753cda"
      },
      "execution_count": 149,
      "outputs": [
        {
          "output_type": "execute_result",
          "data": {
            "text/plain": [
              "' \\n    For some testing data we are able to get around 75%-80% accuracy \\n    which shows that the model is able to generalize well\\n'"
            ],
            "application/vnd.google.colaboratory.intrinsic+json": {
              "type": "string"
            }
          },
          "metadata": {},
          "execution_count": 149
        }
      ]
    }
  ]
}